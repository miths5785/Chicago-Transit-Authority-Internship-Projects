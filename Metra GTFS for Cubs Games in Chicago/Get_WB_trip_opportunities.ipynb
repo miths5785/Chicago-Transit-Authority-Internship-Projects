{
 "cells": [
  {
   "cell_type": "code",
   "execution_count": null,
   "id": "949d6adb",
   "metadata": {},
   "outputs": [],
   "source": [
    "from ipynb.fs.full.Database_Connections import *"
   ]
  },
  {
   "cell_type": "code",
   "execution_count": null,
   "id": "12f26cb0",
   "metadata": {},
   "outputs": [],
   "source": [
    "def get_wb_trip_opportunities(VSCVER_ID):\n",
    "    import pandas as pd\n",
    "    from datetime import datetime, timedelta, date, time\n",
    "\n",
    "    #df = pd.read_csv(\"C:/Users/MBhutada.int/OneDrive - Chicago Transit Authority/Desktop/CTA_Mithilesh/CTA Assignments/Metra GTFS for Cubs/Excel and CSV files/Q-04 80 WB trips WK SA SU.csv\")\n",
    "    df = pd.read_csv(csv_name_wb_trips)\n",
    "    \n",
    "    df = df[['VSCVER_ID', 'TRIP_NO', 'TRIP_ID', 'START_PLACE', 'END_PLACE', 'START_TIME', 'END_TIME']]\n",
    "    df['ST'] = df['START_TIME'].apply(lambda x: x/36000)\n",
    "\n",
    "    def convert_time(element):\n",
    "        minute = round((element - int(str(element)[:2])) * 60, 2)\n",
    "        hour = float(str(element)[:2]) - 12\n",
    "\n",
    "        if len(str(int(hour))) == 1:\n",
    "            hour = '0' + str(int(hour))\n",
    "        else:\n",
    "            hour = str(int(hour))\n",
    "\n",
    "        if minute % 1 == 00: # for minute part remainder = 0 (Ex. 9.0 or 17.0)\n",
    "            if len(str(int(minute / 1))) == 1:\n",
    "                minute = '0' + str(int(minute))\n",
    "                element = hour + ':' + minute + \":00\"  \n",
    "            else:\n",
    "                minute = str(int(minute))\n",
    "                element = hour + ':' + minute + \":00\"  \n",
    "        else: # for minute part remainder != 0 (Ex. 9.5 or 17.5)\n",
    "            if len(str(int(minute / 1))) == 1:\n",
    "                minutes = '0' + str(int(minute))\n",
    "                second = round((float(str(minute)[1:]) * 60), 2)\n",
    "                element = hour + ':' + minutes + \":\" + str(int(second))\n",
    "            else:\n",
    "                minutes = str(int(minute))\n",
    "                second = round((float(str(minute)[2:]) * 60), 2) \n",
    "                element = hour + ':' + minutes + \":\" + str(int(second))\n",
    "\n",
    "        return element\n",
    "\n",
    "    df['ST'] = df['ST'].apply(convert_time)\n",
    "    df = df[df['START_PLACE'] == 'IrvBwy']\n",
    "\n",
    "    df = df[(df['ST'] <= '23:59:59') & (df['VSCVER_ID'] == VSCVER_ID)]\n",
    "    df = df.sort_values(['ST'])\n",
    "    df = df.reset_index(drop = True)\n",
    "\n",
    "    df['ST_timestamp'] = df['ST'].apply(lambda x: datetime.strptime(x, '%H:%M:%S').time())\n",
    "\n",
    "    trip_opportunities = []\n",
    "    date = date(1, 1, 1)\n",
    "\n",
    "    for i in range(len(df['ST_timestamp']) - 1):\n",
    "        datetime1 = datetime.combine(date, df['ST_timestamp'][i])\n",
    "        datetime2 = datetime.combine(date, df['ST_timestamp'][i+1])\n",
    "        time_difference = datetime2 - datetime1\n",
    "        mins = (datetime2 - datetime1).seconds/60\n",
    "\n",
    "        if mins % 1 == 0:\n",
    "            trip_opportunity = datetime1 + timedelta(minutes = mins/2)\n",
    "            trip_opportunities.append(trip_opportunity)\n",
    "\n",
    "        else:\n",
    "            trip_opportunity = datetime1 + timedelta(minutes = mins/2 + 0.25)\n",
    "            trip_opportunities.append(trip_opportunity)\n",
    "\n",
    "    trip_opportunities = l = [x.time() for x in trip_opportunities]\n",
    "\n",
    "    return trip_opportunities"
   ]
  },
  {
   "cell_type": "code",
   "execution_count": null,
   "id": "fe3962b9",
   "metadata": {},
   "outputs": [],
   "source": []
  }
 ],
 "metadata": {
  "kernelspec": {
   "display_name": "Python 3 (ipykernel)",
   "language": "python",
   "name": "python3"
  },
  "language_info": {
   "codemirror_mode": {
    "name": "ipython",
    "version": 3
   },
   "file_extension": ".py",
   "mimetype": "text/x-python",
   "name": "python",
   "nbconvert_exporter": "python",
   "pygments_lexer": "ipython3",
   "version": "3.10.9"
  }
 },
 "nbformat": 4,
 "nbformat_minor": 5
}
