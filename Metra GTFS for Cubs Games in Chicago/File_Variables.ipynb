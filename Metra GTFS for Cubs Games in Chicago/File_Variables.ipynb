{
 "cells": [
  {
   "cell_type": "code",
   "execution_count": null,
   "id": "dce5473e",
   "metadata": {},
   "outputs": [],
   "source": [
    "from datetime import datetime"
   ]
  },
  {
   "cell_type": "code",
   "execution_count": null,
   "id": "d67b7d26",
   "metadata": {},
   "outputs": [],
   "source": [
    "venue = 'Wrigley Field'\n",
    "pick_start = datetime(2023, 8, 20)\n",
    "pick_end = datetime(2023, 12, 16)\n",
    "route_id = '  80'\n",
    "pick = 'Q05'\n",
    "pick_wk = pick + '-WK'\n",
    "pick_sa = pick + '-SA'\n",
    "pick_su = pick + '-SU'\n",
    "eb_direction = 'EB'\n",
    "wb_direction = 'WB'\n",
    "csv_name_runtime = './runtimes_df_' + pick + '.csv'\n",
    "vsc_id = 'GAR-F'\n",
    "booking_id = pick[:-2] + '-' + pick[1:]\n",
    "wk_sched_type_id = 0\n",
    "sa_sched_type_id = 5\n",
    "su_sched_type_id = 6\n",
    "wb_start_place = 'IrvBwy'\n",
    "direction = 3\n",
    "csv_name_wb_trips = './wb_trips_' + pick + '.csv'"
   ]
  },
  {
   "cell_type": "code",
   "execution_count": null,
   "id": "e8e3b617",
   "metadata": {},
   "outputs": [],
   "source": []
  }
 ],
 "metadata": {
  "kernelspec": {
   "display_name": "Python 3 (ipykernel)",
   "language": "python",
   "name": "python3"
  },
  "language_info": {
   "codemirror_mode": {
    "name": "ipython",
    "version": 3
   },
   "file_extension": ".py",
   "mimetype": "text/x-python",
   "name": "python",
   "nbconvert_exporter": "python",
   "pygments_lexer": "ipython3",
   "version": "3.10.9"
  }
 },
 "nbformat": 4,
 "nbformat_minor": 5
}
